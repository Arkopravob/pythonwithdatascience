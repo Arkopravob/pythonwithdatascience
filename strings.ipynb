{
 "cells": [
  {
   "cell_type": "markdown",
   "id": "0e80c547-65be-4d91-a60b-2e0197a0c2b0",
   "metadata": {},
   "source": [
    "## Strings learning in Python\n"
   ]
  },
  {
   "cell_type": "code",
   "execution_count": 1,
   "id": "550f5d9c-0ff7-4373-a9c2-1f7059affd92",
   "metadata": {},
   "outputs": [
    {
     "name": "stdout",
     "output_type": "stream",
     "text": [
      "Hi i am arko\n"
     ]
    }
   ],
   "source": [
    "#string is a sequence of character with single quote and double qutoe\n",
    "str = 'Hi i am arko'\n",
    "print(str)"
   ]
  },
  {
   "cell_type": "code",
   "execution_count": 2,
   "id": "92ddcfdb-fa67-4457-96a3-66a1829f53f9",
   "metadata": {},
   "outputs": [
    {
     "name": "stdout",
     "output_type": "stream",
     "text": [
      "i am learning python\n"
     ]
    }
   ],
   "source": [
    "str2 = \"i am learning python\"\n",
    "print(str2)"
   ]
  },
  {
   "cell_type": "code",
   "execution_count": 3,
   "id": "dbc2bbd1-2a05-401d-92ed-1ffa81ebe5ad",
   "metadata": {},
   "outputs": [
    {
     "name": "stdout",
     "output_type": "stream",
     "text": [
      "hey i am from india and  are you?\n"
     ]
    }
   ],
   "source": [
    "print(\"\"\"hey i am from india and  are you?\"\"\")\n"
   ]
  },
  {
   "cell_type": "code",
   "execution_count": 4,
   "id": "bf207c1a-c9d4-4080-a8be-8b141d0cbf55",
   "metadata": {},
   "outputs": [
    {
     "name": "stdout",
     "output_type": "stream",
     "text": [
      "Lorem ipsum dolor sit amet,\n",
      "consectetur adipiscing elit,\n",
      "sed do eiusmod tempor incididunt\n",
      "ut labore et dolore magna aliqua.\n"
     ]
    }
   ],
   "source": [
    "#multiline strings\n",
    "a = '''Lorem ipsum dolor sit amet,\n",
    "consectetur adipiscing elit,\n",
    "sed do eiusmod tempor incididunt\n",
    "ut labore et dolore magna aliqua.'''\n",
    "print(a)"
   ]
  },
  {
   "cell_type": "code",
   "execution_count": 5,
   "id": "46444736-d334-4044-b38e-43f7b5b16f3e",
   "metadata": {},
   "outputs": [
    {
     "name": "stdout",
     "output_type": "stream",
     "text": [
      "e\n"
     ]
    }
   ],
   "source": [
    "# strings are arrays\n",
    "x = \"hello python\"\n",
    "print(x[1])\n"
   ]
  },
  {
   "cell_type": "code",
   "execution_count": 7,
   "id": "d7459034-2ab1-416a-88e6-bd5e9b540d38",
   "metadata": {},
   "outputs": [
    {
     "name": "stdout",
     "output_type": "stream",
     "text": [
      "b\n",
      "a\n",
      "n\n",
      "a\n",
      "n\n",
      "a\n"
     ]
    }
   ],
   "source": [
    "#looping through strings\n",
    "for a in \"banana\":\n",
    "    print(a)"
   ]
  },
  {
   "cell_type": "code",
   "execution_count": 9,
   "id": "9416bb42-6555-4346-b3ec-770c38340807",
   "metadata": {},
   "outputs": [
    {
     "name": "stdout",
     "output_type": "stream",
     "text": [
      "6\n"
     ]
    }
   ],
   "source": [
    "#string length\n",
    "a = \"banana\"\n",
    "print(len(a))"
   ]
  },
  {
   "cell_type": "code",
   "execution_count": 12,
   "id": "3b8ce19d-951c-49c3-9fc7-30364463eeaa",
   "metadata": {},
   "outputs": [
    {
     "name": "stdout",
     "output_type": "stream",
     "text": [
      "tho\n",
      "pytho\n",
      "thon\n"
     ]
    }
   ],
   "source": [
    "#slice string\n",
    "a = \"python\"\n",
    "print(a[2:5])\n",
    "print(a[:5])\n",
    "print(a[2:])"
   ]
  },
  {
   "cell_type": "markdown",
   "id": "76f915f5-d39c-46e3-93e7-91a7244f15df",
   "metadata": {},
   "source": [
    "## modify string"
   ]
  },
  {
   "cell_type": "code",
   "execution_count": 15,
   "id": "08bfec4f-f8c4-4323-ae9a-c2d6f7caabd0",
   "metadata": {},
   "outputs": [
    {
     "name": "stdout",
     "output_type": "stream",
     "text": [
      "HELLO KOLKATA\n"
     ]
    }
   ],
   "source": [
    "#upper case // lower case\n",
    "b = \"Hello Kolkata\"\n",
    "print(b.upper())"
   ]
  },
  {
   "cell_type": "code",
   "execution_count": 17,
   "id": "4f523ad5-d494-447b-8b1e-7458781a42ea",
   "metadata": {},
   "outputs": [
    {
     "name": "stdout",
     "output_type": "stream",
     "text": [
      "hey rcb\n"
     ]
    }
   ],
   "source": [
    "c = \"HEY RCB\"\n",
    "print(c.lower())"
   ]
  },
  {
   "cell_type": "code",
   "execution_count": null,
   "id": "a219b0d7-4df7-4fd6-bc43-76a7f6acc7e9",
   "metadata": {},
   "outputs": [],
   "source": []
  }
 ],
 "metadata": {
  "kernelspec": {
   "display_name": "Python 3 (ipykernel)",
   "language": "python",
   "name": "python3"
  },
  "language_info": {
   "codemirror_mode": {
    "name": "ipython",
    "version": 3
   },
   "file_extension": ".py",
   "mimetype": "text/x-python",
   "name": "python",
   "nbconvert_exporter": "python",
   "pygments_lexer": "ipython3",
   "version": "3.12.0"
  }
 },
 "nbformat": 4,
 "nbformat_minor": 5
}
