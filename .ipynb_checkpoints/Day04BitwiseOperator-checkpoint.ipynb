{
 "cells": [
  {
   "cell_type": "markdown",
   "id": "7ecd814f-8fa7-4e8b-ab0b-9a5fce3724fb",
   "metadata": {},
   "source": [
    "## Bitwise operator in python\n"
   ]
  },
  {
   "cell_type": "code",
   "execution_count": 3,
   "id": "da62e437-d862-4f3c-85ab-95c09e94e36c",
   "metadata": {},
   "outputs": [
    {
     "name": "stdout",
     "output_type": "stream",
     "text": [
      "0b1010\n"
     ]
    }
   ],
   "source": [
    "print(bin(10)) #0b is a binary represtation\n"
   ]
  }
 ],
 "metadata": {
  "kernelspec": {
   "display_name": "Python [conda env:base] *",
   "language": "python",
   "name": "conda-base-py"
  },
  "language_info": {
   "codemirror_mode": {
    "name": "ipython",
    "version": 3
   },
   "file_extension": ".py",
   "mimetype": "text/x-python",
   "name": "python",
   "nbconvert_exporter": "python",
   "pygments_lexer": "ipython3",
   "version": "3.12.7"
  }
 },
 "nbformat": 4,
 "nbformat_minor": 5
}
