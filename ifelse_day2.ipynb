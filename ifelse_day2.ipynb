{
 "cells": [
  {
   "cell_type": "code",
   "execution_count": 8,
   "id": "bb2df2b7-4b8b-44e1-b67a-0d7b1b258631",
   "metadata": {},
   "outputs": [
    {
     "name": "stdout",
     "output_type": "stream",
     "text": [
      "i am in condition\n",
      "i am out of this condition\n"
     ]
    }
   ],
   "source": [
    "i = 29\n",
    "if(i >= 15):\n",
    "    print(\"i am in condition\")\n",
    "print(\"i am out of this condition\")"
   ]
  },
  {
   "cell_type": "code",
   "execution_count": 14,
   "id": "41af2ee1-2b9b-4725-ae21-9a25f06cb6a2",
   "metadata": {},
   "outputs": [
    {
     "name": "stdout",
     "output_type": "stream",
     "text": [
      "i am not in if\n"
     ]
    }
   ],
   "source": [
    "i = 100\n",
    "if(i < 18):\n",
    "    print(\"i am very small\")\n",
    "    print(\"i am in if block\");\n",
    "else:\n",
    "    print(\"i am not in if\")"
   ]
  },
  {
   "cell_type": "markdown",
   "id": "0e70ebef-d18c-4afe-9820-1b89cdba61d3",
   "metadata": {},
   "source": [
    "if  else condition"
   ]
  },
  {
   "cell_type": "code",
   "execution_count": null,
   "id": "d4003cd1-5628-4acd-a5bf-23417451211a",
   "metadata": {},
   "outputs": [],
   "source": []
  }
 ],
 "metadata": {
  "kernelspec": {
   "display_name": "Python [conda env:base] *",
   "language": "python",
   "name": "conda-base-py"
  },
  "language_info": {
   "codemirror_mode": {
    "name": "ipython",
    "version": 3
   },
   "file_extension": ".py",
   "mimetype": "text/x-python",
   "name": "python",
   "nbconvert_exporter": "python",
   "pygments_lexer": "ipython3",
   "version": "3.12.7"
  }
 },
 "nbformat": 4,
 "nbformat_minor": 5
}
