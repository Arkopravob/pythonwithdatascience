{
 "cells": [
  {
   "cell_type": "markdown",
   "id": "c6b5b6d9-a659-4f10-9b44-b6031f41aad8",
   "metadata": {},
   "source": [
    "## String in Python"
   ]
  },
  {
   "cell_type": "code",
   "execution_count": 1,
   "id": "f4b5e700-d7fb-4f2e-ab86-477e6104672b",
   "metadata": {},
   "outputs": [
    {
     "name": "stdout",
     "output_type": "stream",
     "text": [
      "hey arko hows going your python\n"
     ]
    }
   ],
   "source": [
    "#Strings in python are surrounded by either single quotation marks, or double quotation marks.\n",
    "str = \"hey arko hows going your python\"\n",
    "print(str)"
   ]
  },
  {
   "cell_type": "code",
   "execution_count": 2,
   "id": "8f01402c-c69b-4256-b140-27ca3e0cb960",
   "metadata": {},
   "outputs": [
    {
     "name": "stdout",
     "output_type": "stream",
     "text": [
      "hello\n",
      "<class 'str'>\n"
     ]
    }
   ],
   "source": [
    "a = 'hello'\n",
    "print(a)\n",
    "print(type(a))\n"
   ]
  },
  {
   "cell_type": "code",
   "execution_count": 3,
   "id": "98341f48-809b-423d-aeb9-69e3f76ada5d",
   "metadata": {},
   "outputs": [
    {
     "name": "stdout",
     "output_type": "stream",
     "text": [
      "<class 'str'>\n"
     ]
    }
   ],
   "source": [
    "b = \"\"\"hi learner its not only code its a part of GAME\"\"\"\n",
    "print(type(b))\n"
   ]
  },
  {
   "cell_type": "markdown",
   "id": "39182d76-4951-4058-9962-8b044f661a11",
   "metadata": {},
   "source": [
    "##  concatination of python"
   ]
  },
  {
   "cell_type": "code",
   "execution_count": 4,
   "id": "981ee770-5e4b-405b-9bba-6f35f0a8cdeb",
   "metadata": {},
   "outputs": [
    {
     "name": "stdout",
     "output_type": "stream",
     "text": [
      "helloarko\n"
     ]
    }
   ],
   "source": [
    "a = \"hello\"\n",
    "b = 'arko'\n",
    "print(a+b)\n"
   ]
  },
  {
   "cell_type": "code",
   "execution_count": 7,
   "id": "c5b5d2c8-dc3c-4b1c-a6b8-68654a998c17",
   "metadata": {},
   "outputs": [
    {
     "ename": "TypeError",
     "evalue": "can't multiply sequence by non-int of type 'str'",
     "output_type": "error",
     "traceback": [
      "\u001b[31m---------------------------------------------------------------------------\u001b[39m",
      "\u001b[31mTypeError\u001b[39m                                 Traceback (most recent call last)",
      "\u001b[36mCell\u001b[39m\u001b[36m \u001b[39m\u001b[32mIn[7]\u001b[39m\u001b[32m, line 3\u001b[39m\n\u001b[32m      1\u001b[39m m = \u001b[33m'\u001b[39m\u001b[33mhi\u001b[39m\u001b[33m'\u001b[39m\n\u001b[32m      2\u001b[39m n =\u001b[33m'\u001b[39m\u001b[33mlearner\u001b[39m\u001b[33m'\u001b[39m\n\u001b[32m----> \u001b[39m\u001b[32m3\u001b[39m \u001b[38;5;28mprint\u001b[39m(\u001b[43mm\u001b[49m\u001b[43m*\u001b[49m\u001b[43mn\u001b[49m)\n",
      "\u001b[31mTypeError\u001b[39m: can't multiply sequence by non-int of type 'str'"
     ]
    }
   ],
   "source": [
    "#error in concatination\n",
    "m = 'hi'\n",
    "n ='learner'\n",
    "print(mn)"
   ]
  },
  {
   "cell_type": "markdown",
   "id": "b3aaea76-4efe-46e5-8fad-7492ebc349d6",
   "metadata": {},
   "source": [
    "## strings are array in python"
   ]
  },
  {
   "cell_type": "code",
   "execution_count": 9,
   "id": "86822068-ea20-4e8f-b025-59351dd363fe",
   "metadata": {},
   "outputs": [
    {
     "name": "stdout",
     "output_type": "stream",
     "text": [
      "y\n",
      "<class 'str'>\n"
     ]
    }
   ],
   "source": [
    "a = \"heyits not python\"\n",
    "print(a[2])\n",
    "print(type(a))"
   ]
  },
  {
   "cell_type": "code",
   "execution_count": null,
   "id": "5ae97188-4f40-4068-92fc-fc214b541af5",
   "metadata": {},
   "outputs": [],
   "source": []
  }
 ],
 "metadata": {
  "kernelspec": {
   "display_name": "Python 3 (ipykernel)",
   "language": "python",
   "name": "python3"
  },
  "language_info": {
   "codemirror_mode": {
    "name": "ipython",
    "version": 3
   },
   "file_extension": ".py",
   "mimetype": "text/x-python",
   "name": "python",
   "nbconvert_exporter": "python",
   "pygments_lexer": "ipython3",
   "version": "3.12.0"
  }
 },
 "nbformat": 4,
 "nbformat_minor": 5
}
