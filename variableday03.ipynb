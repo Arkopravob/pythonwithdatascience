{
 "cells": [
  {
   "cell_type": "markdown",
   "id": "61a452dd-ba40-4313-8c83-5322c63086ac",
   "metadata": {},
   "source": [
    "## variable in python"
   ]
  },
  {
   "cell_type": "code",
   "execution_count": 2,
   "id": "1f250e19-f008-4016-8042-2bf1149ff4e5",
   "metadata": {
    "scrolled": true
   },
   "outputs": [
    {
     "name": "stdout",
     "output_type": "stream",
     "text": [
      "lets start coding\n"
     ]
    }
   ],
   "source": [
    "#variable and data type in python\n",
    "print(\"lets start coding\")"
   ]
  },
  {
   "cell_type": "code",
   "execution_count": 4,
   "id": "a586b43a-82c5-4b39-869f-a0f23a0a9b13",
   "metadata": {},
   "outputs": [
    {
     "name": "stdout",
     "output_type": "stream",
     "text": [
      "<class 'int'>\n",
      "34 23 36\n"
     ]
    }
   ],
   "source": [
    "x = 34;\n",
    "y = 23;\n",
    "z = 36;\n",
    "print(type(y))\n",
    "print(x,y,z);"
   ]
  },
  {
   "cell_type": "markdown",
   "id": "770e6ea0-1bb1-44e4-a944-d98e436341eb",
   "metadata": {},
   "source": [
    "## integer in python"
   ]
  },
  {
   "cell_type": "code",
   "execution_count": 5,
   "id": "b953dda7-ee26-4474-9a1d-f1541b4bbe81",
   "metadata": {},
   "outputs": [
    {
     "name": "stdout",
     "output_type": "stream",
     "text": [
      "34\n"
     ]
    }
   ],
   "source": [
    "a = 34;\n",
    "b = 26;\n",
    "c = 36;\n",
    "print(a)\n"
   ]
  },
  {
   "cell_type": "markdown",
   "id": "c2974c3b-2a1a-4c5a-998e-57a7ab687317",
   "metadata": {},
   "source": [
    "float in python"
   ]
  },
  {
   "cell_type": "code",
   "execution_count": 7,
   "id": "c06495aa-ce7b-4318-907c-9c022e562e85",
   "metadata": {},
   "outputs": [
    {
     "name": "stdout",
     "output_type": "stream",
     "text": [
      "<class 'float'>\n"
     ]
    }
   ],
   "source": [
    "a = 89.0;\n",
    "print(type(a))"
   ]
  },
  {
   "cell_type": "code",
   "execution_count": 9,
   "id": "ee61709b-1700-4a54-bf64-880625d192e0",
   "metadata": {},
   "outputs": [
    {
     "name": "stdout",
     "output_type": "stream",
     "text": [
      "<class 'complex'>\n"
     ]
    }
   ],
   "source": [
    "#complex\n",
    "m = 1+5j;\n",
    "print(type(m))"
   ]
  },
  {
   "cell_type": "markdown",
   "id": "b7fc56c7-c867-4389-9451-8a5216d79df7",
   "metadata": {},
   "source": [
    "## TYPE CASTING "
   ]
  },
  {
   "cell_type": "code",
   "execution_count": 20,
   "id": "b8176be5-f960-4932-a52b-254ae4e8a7f0",
   "metadata": {},
   "outputs": [
    {
     "name": "stdout",
     "output_type": "stream",
     "text": [
      "<class 'complex'>\n",
      "1.0\n",
      "45\n",
      "(1+0j)\n"
     ]
    }
   ],
   "source": [
    "a = 1;\n",
    "b = 45.6\n",
    "c = 5j;\n",
    "print(type(c))\n",
    "#convert int to float\n",
    "m = float(a);\n",
    "print(m)\n",
    "\n",
    "#convert float to int \n",
    "n = int(b)\n",
    "print(n)\n",
    "#convert complex to int not possible but int to complex is possible\n",
    "# d = int(c);\n",
    "# print(d);\n",
    "\n",
    "d = complex(a);\n",
    "print(d)"
   ]
  },
  {
   "cell_type": "markdown",
   "id": "e5e2858f-ad71-41b2-8c37-2a5a9a6e167e",
   "metadata": {},
   "source": [
    "## RANDOM NUMBER"
   ]
  },
  {
   "cell_type": "code",
   "execution_count": 25,
   "id": "111c1e9a-9513-4e3d-aab4-98c04686c86d",
   "metadata": {},
   "outputs": [
    {
     "name": "stdout",
     "output_type": "stream",
     "text": [
      "13\n"
     ]
    }
   ],
   "source": [
    "import random\n",
    "print (random.randrange(1, 19));"
   ]
  },
  {
   "cell_type": "code",
   "execution_count": null,
   "id": "ad748043-027c-4084-92f2-3aa8dbf5cd83",
   "metadata": {},
   "outputs": [],
   "source": []
  }
 ],
 "metadata": {
  "kernelspec": {
   "display_name": "Python 3 (ipykernel)",
   "language": "python",
   "name": "python3"
  },
  "language_info": {
   "codemirror_mode": {
    "name": "ipython",
    "version": 3
   },
   "file_extension": ".py",
   "mimetype": "text/x-python",
   "name": "python",
   "nbconvert_exporter": "python",
   "pygments_lexer": "ipython3",
   "version": "3.12.0"
  }
 },
 "nbformat": 4,
 "nbformat_minor": 5
}
