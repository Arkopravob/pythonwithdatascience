{
 "cells": [
  {
   "cell_type": "markdown",
   "id": "544168e2-f8b0-493b-94a1-2d5d18be38f0",
   "metadata": {},
   "source": [
    "#control flow\n"
   ]
  },
  {
   "cell_type": "code",
   "execution_count": 25,
   "id": "5d5e3285-861c-47fe-ab36-5fcd4c8ccb34",
   "metadata": {},
   "outputs": [
    {
     "name": "stdout",
     "output_type": "stream",
     "text": [
      "you are not eligible for pub\n"
     ]
    }
   ],
   "source": [
    "age = 18\n",
    "if(age < 24):\n",
    "    print(\"you are not eligible for pub\")\n",
    "else:\n",
    "    print(\"go and chill the club\")"
   ]
  },
  {
   "cell_type": "code",
   "execution_count": 27,
   "id": "be77e74e-180d-45ed-9fe0-260f7d3c0642",
   "metadata": {},
   "outputs": [
    {
     "name": "stdout",
     "output_type": "stream",
     "text": [
      "hey kiddo\n"
     ]
    }
   ],
   "source": [
    "name ='ram'\n",
    "age=23\n",
    "if(name == \"Alice\"):\n",
    "    print(\"you become good\")\n",
    "elif(age>20):\n",
    "    print(\"hey kiddo\")\n",
    "else:\n",
    "    print(\"you're not kid\")"
   ]
  },
  {
   "cell_type": "markdown",
   "id": "a307948b-096d-40ba-9550-2eab3c8c22d7",
   "metadata": {},
   "source": [
    "while looping statements"
   ]
  },
  {
   "cell_type": "code",
   "execution_count": 32,
   "id": "71e64404-3f09-4c14-9d0d-86ac33ba10d6",
   "metadata": {},
   "outputs": [
    {
     "name": "stdout",
     "output_type": "stream",
     "text": [
      "hello, world\n",
      "hello, world\n",
      "hello, world\n",
      "hello, world\n",
      "hello, world\n"
     ]
    }
   ],
   "source": [
    "spam = 0\n",
    "while spam < 5:\n",
    "    print(\"hello, world\")\n",
    "    spam = spam + 1"
   ]
  },
  {
   "cell_type": "code",
   "execution_count": null,
   "id": "496f147b-4ff8-4dc7-92f5-32b0e4238492",
   "metadata": {},
   "outputs": [],
   "source": []
  }
 ],
 "metadata": {
  "kernelspec": {
   "display_name": "Python [conda env:base] *",
   "language": "python",
   "name": "conda-base-py"
  },
  "language_info": {
   "codemirror_mode": {
    "name": "ipython",
    "version": 3
   },
   "file_extension": ".py",
   "mimetype": "text/x-python",
   "name": "python",
   "nbconvert_exporter": "python",
   "pygments_lexer": "ipython3",
   "version": "3.12.7"
  }
 },
 "nbformat": 4,
 "nbformat_minor": 5
}
