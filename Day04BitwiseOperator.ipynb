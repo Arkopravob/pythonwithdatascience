{
 "cells": [
  {
   "cell_type": "markdown",
   "id": "7ecd814f-8fa7-4e8b-ab0b-9a5fce3724fb",
   "metadata": {},
   "source": [
    "## Bitwise operator in python\n"
   ]
  },
  {
   "cell_type": "code",
   "execution_count": 3,
   "id": "da62e437-d862-4f3c-85ab-95c09e94e36c",
   "metadata": {},
   "outputs": [
    {
     "name": "stdout",
     "output_type": "stream",
     "text": [
      "0b1010\n"
     ]
    }
   ],
   "source": [
    "print(bin(10)) #0b is a binary represtation\n"
   ]
  },
  {
   "cell_type": "markdown",
   "id": "bf875787-8dde-47b8-92be-c10048326ca5",
   "metadata": {},
   "source": [
    "## Bitwise and operator"
   ]
  },
  {
   "cell_type": "code",
   "execution_count": 16,
   "id": "d572e5fa-5d36-422a-b6e2-5516c9866c81",
   "metadata": {},
   "outputs": [
    {
     "name": "stdout",
     "output_type": "stream",
     "text": [
      "0b101\n",
      "0b11\n",
      "1\n"
     ]
    }
   ],
   "source": [
    "\n",
    "a = 5\n",
    "print(bin(a))\n",
    "b = 3\n",
    "print(bin(b))\n",
    "print(a & b)"
   ]
  },
  {
   "cell_type": "markdown",
   "id": "6b07da41-e22b-4870-a551-c67d0fe3d376",
   "metadata": {},
   "source": [
    "## bitwise or operator"
   ]
  },
  {
   "cell_type": "code",
   "execution_count": 24,
   "id": "e63b9131-eec8-47a7-89b7-fa28f33be604",
   "metadata": {},
   "outputs": [
    {
     "name": "stdout",
     "output_type": "stream",
     "text": [
      "0b100\n",
      "0b11\n",
      "7\n"
     ]
    }
   ],
   "source": [
    "a = 4 ;\n",
    "print(bin(a))\n",
    "b = 3;\n",
    "print(bin(b))\n",
    "\n",
    "print(a | b)"
   ]
  },
  {
   "cell_type": "code",
   "execution_count": 32,
   "id": "781346ce-8460-48ae-a049-54c2efff9588",
   "metadata": {},
   "outputs": [
    {
     "name": "stdout",
     "output_type": "stream",
     "text": [
      "0b111\n",
      "0b1000\n",
      "15\n"
     ]
    }
   ],
   "source": [
    "a = 7\n",
    "print(bin(a))\n",
    "b = 8\n",
    "print(bin(b))\n",
    "\n",
    "print(a | b)"
   ]
  },
  {
   "cell_type": "code",
   "execution_count": null,
   "id": "866dac20-0496-4919-b81b-eee14acaf7de",
   "metadata": {},
   "outputs": [],
   "source": []
  }
 ],
 "metadata": {
  "kernelspec": {
   "display_name": "Python [conda env:base] *",
   "language": "python",
   "name": "conda-base-py"
  },
  "language_info": {
   "codemirror_mode": {
    "name": "ipython",
    "version": 3
   },
   "file_extension": ".py",
   "mimetype": "text/x-python",
   "name": "python",
   "nbconvert_exporter": "python",
   "pygments_lexer": "ipython3",
   "version": "3.12.7"
  }
 },
 "nbformat": 4,
 "nbformat_minor": 5
}
